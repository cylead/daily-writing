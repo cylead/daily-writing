{
 "cells": [
  {
   "cell_type": "code",
   "execution_count": 4,
   "metadata": {},
   "outputs": [
    {
     "name": "stdout",
     "output_type": "stream",
     "text": [
      "[0.4221651923635401, 0.8003970153501345, 0.4201395360042627, 0.15597305744586631, 0.4768479824583154]\n",
      "[0.0006532689935243011, 0.000634139848080926, 0.0010158350658329267, 0.0003771197126210871, 0.0009223581408400021]\n"
     ]
    }
   ],
   "source": [
    "import random\n",
    "\n",
    "\n",
    "def objective_function(x):\n",
    "    # This is the function we want to optimize.\n",
    "    # In this case, we are trying to minimize the sum of the squares of the elements of x.\n",
    "    return sum(x_i**2 for x_i in x)\n",
    "\n",
    "\n",
    "def stochastic_approximation(n, epsilon):\n",
    "    # Initialize the solution with random values.\n",
    "    x = [random.random() for _ in range(n)]\n",
    "    print(x)\n",
    "\n",
    "    # Set the step size.\n",
    "    alpha = 0.1\n",
    "\n",
    "    # Iterate until the solution is within the desired tolerance.\n",
    "    while True:\n",
    "        # Choose a random index.\n",
    "        i = random.randint(0, n-1)\n",
    "\n",
    "        # Compute the gradient at the current point.\n",
    "        gradient = 2 * x[i]\n",
    "\n",
    "        # Update the solution using the gradient descent rule.\n",
    "        x[i] -= alpha * gradient\n",
    "\n",
    "        # Check the convergence criterion.\n",
    "        if abs(gradient) < epsilon:\n",
    "            break\n",
    "\n",
    "    # Return the optimal solution.\n",
    "    return x\n",
    "\n",
    "\n",
    "# Solve the optimization problem using stochastic approximation.\n",
    "solution = stochastic_approximation(5, 1e-3)\n",
    "\n",
    "# Print the optimal solution.\n",
    "print(solution)\n"
   ]
  },
  {
   "cell_type": "code",
   "execution_count": 8,
   "metadata": {},
   "outputs": [
    {
     "ename": "TypeError",
     "evalue": "f() takes 1 positional argument but 2 were given",
     "output_type": "error",
     "traceback": [
      "\u001b[0;31m---------------------------------------------------------------------------\u001b[0m",
      "\u001b[0;31mTypeError\u001b[0m                                 Traceback (most recent call last)",
      "\u001b[1;32m/Users/yangch/Library/CloudStorage/OneDrive-KTH/PhD/course/SF2957 Statistical Machine Learning/lecture notes/stochastic approximation/sa.ipynb Cell 2\u001b[0m in \u001b[0;36m<cell line: 14>\u001b[0;34m()\u001b[0m\n\u001b[1;32m     <a href='vscode-notebook-cell:/Users/yangch/Library/CloudStorage/OneDrive-KTH/PhD/course/SF2957%20Statistical%20Machine%20Learning/lecture%20notes/stochastic%20approximation/sa.ipynb#W1sZmlsZQ%3D%3D?line=11'>12</a>\u001b[0m y \u001b[39m=\u001b[39m np\u001b[39m.\u001b[39mlinspace(\u001b[39m-\u001b[39m\u001b[39m2\u001b[39m, \u001b[39m2\u001b[39m, \u001b[39m100\u001b[39m)\n\u001b[1;32m     <a href='vscode-notebook-cell:/Users/yangch/Library/CloudStorage/OneDrive-KTH/PhD/course/SF2957%20Statistical%20Machine%20Learning/lecture%20notes/stochastic%20approximation/sa.ipynb#W1sZmlsZQ%3D%3D?line=12'>13</a>\u001b[0m X, Y \u001b[39m=\u001b[39m np\u001b[39m.\u001b[39mmeshgrid(x, y)\n\u001b[0;32m---> <a href='vscode-notebook-cell:/Users/yangch/Library/CloudStorage/OneDrive-KTH/PhD/course/SF2957%20Statistical%20Machine%20Learning/lecture%20notes/stochastic%20approximation/sa.ipynb#W1sZmlsZQ%3D%3D?line=13'>14</a>\u001b[0m Z \u001b[39m=\u001b[39m f(X, Y)\n\u001b[1;32m     <a href='vscode-notebook-cell:/Users/yangch/Library/CloudStorage/OneDrive-KTH/PhD/course/SF2957%20Statistical%20Machine%20Learning/lecture%20notes/stochastic%20approximation/sa.ipynb#W1sZmlsZQ%3D%3D?line=15'>16</a>\u001b[0m \u001b[39m# Create a 3D plot of the objective function.\u001b[39;00m\n\u001b[1;32m     <a href='vscode-notebook-cell:/Users/yangch/Library/CloudStorage/OneDrive-KTH/PhD/course/SF2957%20Statistical%20Machine%20Learning/lecture%20notes/stochastic%20approximation/sa.ipynb#W1sZmlsZQ%3D%3D?line=16'>17</a>\u001b[0m fig \u001b[39m=\u001b[39m plt\u001b[39m.\u001b[39mfigure()\n",
      "\u001b[0;31mTypeError\u001b[0m: f() takes 1 positional argument but 2 were given"
     ]
    }
   ],
   "source": [
    "import matplotlib.pyplot as plt\n",
    "from mpl_toolkits.mplot3d import Axes3D\n",
    "from scipy.optimize import minimize\n",
    "import numpy as np\n",
    "\n",
    "# Define the objective function.\n",
    "def f(x):\n",
    "    return (1 - x[0])**2 + 100 * (x[1] - x[0]**2)**2\n",
    "\n",
    "# Create a meshgrid of points.\n",
    "x = np.linspace(-2, 2, 100)\n",
    "y = np.linspace(-2, 2, 100)\n",
    "X, Y = np.meshgrid(x, y)\n",
    "Z = f(X, Y)\n",
    "\n",
    "# Create a 3D plot of the objective function.\n",
    "fig = plt.figure()\n",
    "ax = fig.add_subplot(111, projection='3d')\n",
    "ax.plot_surface(X, Y, Z, cmap='jet')\n",
    "ax.set_xlabel('x')\n",
    "ax.set_ylabel('y')\n",
    "ax.set_zlabel('z')\n",
    "plt.show()\n",
    "\n",
    "# Set the initial point.\n",
    "x0 = [-1.5, 1.5]\n",
    "\n",
    "# Use the gradient descent method to optimize the objective function.\n",
    "result = minimize(f, x0, method='CG')\n",
    "\n",
    "# Print the optimal solution.\n",
    "print(result.x)\n",
    "\n",
    "# Use the Nelder-Mead method to optimize the objective function.\n",
    "result = minimize(f, x0, method='Nelder-Mead')\n",
    "\n",
    "# Print the optimal solution.\n",
    "print(result.x)\n",
    "\n",
    "# Use the Powell method to optimize the objective function.\n",
    "result = minimize(f, x0, method='Powell')\n",
    "\n",
    "# Print the optimal solution.\n",
    "print(result.x)\n"
   ]
  },
  {
   "cell_type": "code",
   "execution_count": 7,
   "metadata": {},
   "outputs": [
    {
     "ename": "AttributeError",
     "evalue": "x_iters",
     "output_type": "error",
     "traceback": [
      "\u001b[0;31m---------------------------------------------------------------------------\u001b[0m",
      "\u001b[0;31mKeyError\u001b[0m                                  Traceback (most recent call last)",
      "File \u001b[0;32m~/opt/anaconda3/lib/python3.9/site-packages/scipy/optimize/optimize.py:122\u001b[0m, in \u001b[0;36mOptimizeResult.__getattr__\u001b[0;34m(self, name)\u001b[0m\n\u001b[1;32m    121\u001b[0m \u001b[39mtry\u001b[39;00m:\n\u001b[0;32m--> 122\u001b[0m     \u001b[39mreturn\u001b[39;00m \u001b[39mself\u001b[39;49m[name]\n\u001b[1;32m    123\u001b[0m \u001b[39mexcept\u001b[39;00m \u001b[39mKeyError\u001b[39;00m \u001b[39mas\u001b[39;00m e:\n",
      "\u001b[0;31mKeyError\u001b[0m: 'x_iters'",
      "\nThe above exception was the direct cause of the following exception:\n",
      "\u001b[0;31mAttributeError\u001b[0m                            Traceback (most recent call last)",
      "\u001b[1;32m/Users/yangch/Library/CloudStorage/OneDrive-KTH/PhD/course/SF2957 Statistical Machine Learning/lecture notes/stochastic approximation/sa.ipynb Cell 3\u001b[0m in \u001b[0;36m<cell line: 16>\u001b[0;34m()\u001b[0m\n\u001b[1;32m     <a href='vscode-notebook-cell:/Users/yangch/Library/CloudStorage/OneDrive-KTH/PhD/course/SF2957%20Statistical%20Machine%20Learning/lecture%20notes/stochastic%20approximation/sa.ipynb#W2sZmlsZQ%3D%3D?line=12'>13</a>\u001b[0m result \u001b[39m=\u001b[39m minimize(f, x0, method\u001b[39m=\u001b[39m\u001b[39m'\u001b[39m\u001b[39mCG\u001b[39m\u001b[39m'\u001b[39m)\n\u001b[1;32m     <a href='vscode-notebook-cell:/Users/yangch/Library/CloudStorage/OneDrive-KTH/PhD/course/SF2957%20Statistical%20Machine%20Learning/lecture%20notes/stochastic%20approximation/sa.ipynb#W2sZmlsZQ%3D%3D?line=14'>15</a>\u001b[0m \u001b[39m# Extract the optimization path.\u001b[39;00m\n\u001b[0;32m---> <a href='vscode-notebook-cell:/Users/yangch/Library/CloudStorage/OneDrive-KTH/PhD/course/SF2957%20Statistical%20Machine%20Learning/lecture%20notes/stochastic%20approximation/sa.ipynb#W2sZmlsZQ%3D%3D?line=15'>16</a>\u001b[0m x_path_cg \u001b[39m=\u001b[39m result\u001b[39m.\u001b[39;49mx_iters\n\u001b[1;32m     <a href='vscode-notebook-cell:/Users/yangch/Library/CloudStorage/OneDrive-KTH/PhD/course/SF2957%20Statistical%20Machine%20Learning/lecture%20notes/stochastic%20approximation/sa.ipynb#W2sZmlsZQ%3D%3D?line=17'>18</a>\u001b[0m \u001b[39m# Use the Nelder-Mead method to optimize the objective function.\u001b[39;00m\n\u001b[1;32m     <a href='vscode-notebook-cell:/Users/yangch/Library/CloudStorage/OneDrive-KTH/PhD/course/SF2957%20Statistical%20Machine%20Learning/lecture%20notes/stochastic%20approximation/sa.ipynb#W2sZmlsZQ%3D%3D?line=18'>19</a>\u001b[0m result \u001b[39m=\u001b[39m minimize(f, x0, method\u001b[39m=\u001b[39m\u001b[39m'\u001b[39m\u001b[39mNelder-Mead\u001b[39m\u001b[39m'\u001b[39m)\n",
      "File \u001b[0;32m~/opt/anaconda3/lib/python3.9/site-packages/scipy/optimize/optimize.py:124\u001b[0m, in \u001b[0;36mOptimizeResult.__getattr__\u001b[0;34m(self, name)\u001b[0m\n\u001b[1;32m    122\u001b[0m     \u001b[39mreturn\u001b[39;00m \u001b[39mself\u001b[39m[name]\n\u001b[1;32m    123\u001b[0m \u001b[39mexcept\u001b[39;00m \u001b[39mKeyError\u001b[39;00m \u001b[39mas\u001b[39;00m e:\n\u001b[0;32m--> 124\u001b[0m     \u001b[39mraise\u001b[39;00m \u001b[39mAttributeError\u001b[39;00m(name) \u001b[39mfrom\u001b[39;00m \u001b[39me\u001b[39;00m\n",
      "\u001b[0;31mAttributeError\u001b[0m: x_iters"
     ]
    }
   ],
   "source": [
    "from scipy.optimize import minimize\n",
    "from sklearn.utils.optimize import plot_convergence\n",
    "import numpy as np\n",
    "\n",
    "# Define the objective function.\n",
    "def f(x):\n",
    "    return (1 - x[0])**2 + 100 * (x[1] - x[0]**2)**2\n",
    "\n",
    "# Set the initial point.\n",
    "x0 = [-1.5, 1.5]\n",
    "\n",
    "# Use the gradient descent method to optimize the objective function.\n",
    "result = minimize(f, x0, method='CG')\n",
    "\n",
    "# Extract the optimization path.\n",
    "x_path_cg = result.x_iters\n",
    "\n",
    "# Use the Nelder-Mead method to optimize the objective function.\n",
    "result = minimize(f, x0, method='Nelder-Mead')\n",
    "\n",
    "# Extract the optimization path.\n",
    "x_path_nm = result.x_iters\n",
    "\n",
    "# Use the Powell method to optimize the objective function.\n",
    "result = minimize(f, x0, method='Powell')\n",
    "\n",
    "# Extract the optimization path.\n",
    "x_path_powell = result.x_iters\n",
    "\n",
    "# Create a figure.\n",
    "fig, (ax1, ax2, ax3) = plt.subplots(1, 3, figsize=(12, 4))\n",
    "\n",
    "# Plot the optimization path for the gradient descent method.\n",
    "for x in x_path_cg:\n",
    "    ax1.plot(x[0], x[1], 'bo')\n",
    "ax1.plot(x_path_cg[-1][0], x_path_cg[-1][1], 'ro')\n",
    "ax1.set_title('Gradient descent')\n",
    "\n",
    "# Plot the optimization path for the Nelder-Mead method.\n",
    "for x in x_path_nm:\n",
    "    ax2.plot(x[0], x[1], 'bo')\n",
    "ax2.plot(x_path_nm[-1][0], x_path_nm[-1][1], 'ro')\n",
    "ax2.set_title('Nelder-Mead')\n",
    "\n",
    "# Plot the optimization path for the Powell method.\n",
    "for x in x_path_powell:\n",
    "    ax3.plot(x[0], x[1], 'bo')\n",
    "ax3.plot(x_path_powell[-1][0], x_path_powell[-1][1], 'ro')\n",
    "ax3.set_title('Powell')\n",
    "\n",
    "# Show the figure.\n",
    "plt.show()\n"
   ]
  },
  {
   "cell_type": "code",
   "execution_count": 12,
   "metadata": {},
   "outputs": [
    {
     "ename": "AttributeError",
     "evalue": "x_iters",
     "output_type": "error",
     "traceback": [
      "\u001b[0;31m---------------------------------------------------------------------------\u001b[0m",
      "\u001b[0;31mKeyError\u001b[0m                                  Traceback (most recent call last)",
      "File \u001b[0;32m~/opt/anaconda3/lib/python3.9/site-packages/scipy/optimize/optimize.py:122\u001b[0m, in \u001b[0;36mOptimizeResult.__getattr__\u001b[0;34m(self, name)\u001b[0m\n\u001b[1;32m    121\u001b[0m \u001b[39mtry\u001b[39;00m:\n\u001b[0;32m--> 122\u001b[0m     \u001b[39mreturn\u001b[39;00m \u001b[39mself\u001b[39;49m[name]\n\u001b[1;32m    123\u001b[0m \u001b[39mexcept\u001b[39;00m \u001b[39mKeyError\u001b[39;00m \u001b[39mas\u001b[39;00m e:\n",
      "\u001b[0;31mKeyError\u001b[0m: 'x_iters'",
      "\nThe above exception was the direct cause of the following exception:\n",
      "\u001b[0;31mAttributeError\u001b[0m                            Traceback (most recent call last)",
      "\u001b[1;32m/Users/yangch/Library/CloudStorage/OneDrive-KTH/PhD/course/SF2957 Statistical Machine Learning/lecture notes/stochastic approximation/sa.ipynb Cell 4\u001b[0m in \u001b[0;36m<cell line: 10>\u001b[0;34m()\u001b[0m\n\u001b[1;32m      <a href='vscode-notebook-cell:/Users/yangch/Library/CloudStorage/OneDrive-KTH/PhD/course/SF2957%20Statistical%20Machine%20Learning/lecture%20notes/stochastic%20approximation/sa.ipynb#W3sZmlsZQ%3D%3D?line=3'>4</a>\u001b[0m result \u001b[39m=\u001b[39m minimize(objective_function, x0, method\u001b[39m=\u001b[39m\u001b[39m'\u001b[39m\u001b[39mBFGS\u001b[39m\u001b[39m'\u001b[39m)\n\u001b[1;32m      <a href='vscode-notebook-cell:/Users/yangch/Library/CloudStorage/OneDrive-KTH/PhD/course/SF2957%20Statistical%20Machine%20Learning/lecture%20notes/stochastic%20approximation/sa.ipynb#W3sZmlsZQ%3D%3D?line=5'>6</a>\u001b[0m \u001b[39m# Extract the history of function values from the result object\u001b[39;00m\n\u001b[1;32m      <a href='vscode-notebook-cell:/Users/yangch/Library/CloudStorage/OneDrive-KTH/PhD/course/SF2957%20Statistical%20Machine%20Learning/lecture%20notes/stochastic%20approximation/sa.ipynb#W3sZmlsZQ%3D%3D?line=6'>7</a>\u001b[0m \u001b[39m# history = result.history\u001b[39;00m\n\u001b[1;32m      <a href='vscode-notebook-cell:/Users/yangch/Library/CloudStorage/OneDrive-KTH/PhD/course/SF2957%20Statistical%20Machine%20Learning/lecture%20notes/stochastic%20approximation/sa.ipynb#W3sZmlsZQ%3D%3D?line=7'>8</a>\u001b[0m \n\u001b[1;32m      <a href='vscode-notebook-cell:/Users/yangch/Library/CloudStorage/OneDrive-KTH/PhD/course/SF2957%20Statistical%20Machine%20Learning/lecture%20notes/stochastic%20approximation/sa.ipynb#W3sZmlsZQ%3D%3D?line=8'>9</a>\u001b[0m \u001b[39m# Plot the convergence of the objective function\u001b[39;00m\n\u001b[0;32m---> <a href='vscode-notebook-cell:/Users/yangch/Library/CloudStorage/OneDrive-KTH/PhD/course/SF2957%20Statistical%20Machine%20Learning/lecture%20notes/stochastic%20approximation/sa.ipynb#W3sZmlsZQ%3D%3D?line=9'>10</a>\u001b[0m plot_convergence(result)\n",
      "File \u001b[0;32m~/opt/anaconda3/lib/python3.9/site-packages/skopt/plots.py:80\u001b[0m, in \u001b[0;36mplot_convergence\u001b[0;34m(*args, **kwargs)\u001b[0m\n\u001b[1;32m     77\u001b[0m     name \u001b[39m=\u001b[39m \u001b[39mNone\u001b[39;00m\n\u001b[1;32m     79\u001b[0m \u001b[39mif\u001b[39;00m \u001b[39misinstance\u001b[39m(results, OptimizeResult):\n\u001b[0;32m---> 80\u001b[0m     n_calls \u001b[39m=\u001b[39m \u001b[39mlen\u001b[39m(results\u001b[39m.\u001b[39;49mx_iters)\n\u001b[1;32m     81\u001b[0m     mins \u001b[39m=\u001b[39m [np\u001b[39m.\u001b[39mmin(results\u001b[39m.\u001b[39mfunc_vals[:i])\n\u001b[1;32m     82\u001b[0m             \u001b[39mfor\u001b[39;00m i \u001b[39min\u001b[39;00m \u001b[39mrange\u001b[39m(\u001b[39m1\u001b[39m, n_calls \u001b[39m+\u001b[39m \u001b[39m1\u001b[39m)]\n\u001b[1;32m     83\u001b[0m     ax\u001b[39m.\u001b[39mplot(\u001b[39mrange\u001b[39m(\u001b[39m1\u001b[39m, n_calls \u001b[39m+\u001b[39m \u001b[39m1\u001b[39m), mins, c\u001b[39m=\u001b[39mcolor,\n\u001b[1;32m     84\u001b[0m             marker\u001b[39m=\u001b[39m\u001b[39m\"\u001b[39m\u001b[39m.\u001b[39m\u001b[39m\"\u001b[39m, markersize\u001b[39m=\u001b[39m\u001b[39m12\u001b[39m, lw\u001b[39m=\u001b[39m\u001b[39m2\u001b[39m, label\u001b[39m=\u001b[39mname)\n",
      "File \u001b[0;32m~/opt/anaconda3/lib/python3.9/site-packages/scipy/optimize/optimize.py:124\u001b[0m, in \u001b[0;36mOptimizeResult.__getattr__\u001b[0;34m(self, name)\u001b[0m\n\u001b[1;32m    122\u001b[0m     \u001b[39mreturn\u001b[39;00m \u001b[39mself\u001b[39m[name]\n\u001b[1;32m    123\u001b[0m \u001b[39mexcept\u001b[39;00m \u001b[39mKeyError\u001b[39;00m \u001b[39mas\u001b[39;00m e:\n\u001b[0;32m--> 124\u001b[0m     \u001b[39mraise\u001b[39;00m \u001b[39mAttributeError\u001b[39;00m(name) \u001b[39mfrom\u001b[39;00m \u001b[39me\u001b[39;00m\n",
      "\u001b[0;31mAttributeError\u001b[0m: x_iters"
     ]
    },
    {
     "data": {
      "image/png": "[encoded data removed]",
      "text/plain": [
       "<Figure size 432x288 with 1 Axes>"
      ]
     },
     "metadata": {
      "needs_background": "light"
     },
     "output_type": "display_data"
    }
   ],
   "source": [
    "# from sklearn.utils.optimize import plot_convergence\n",
    "from skopt.plots import plot_convergence\n",
    "# Use the minimize function to optimize an objective function\n",
    "result = minimize(objective_function, x0, method='BFGS')\n",
    "\n",
    "# Extract the history of function values from the result object\n",
    "# history = result.history\n",
    "\n",
    "# Plot the convergence of the objective function\n",
    "plot_convergence(result)"
   ]
  },
  {
   "cell_type": "code",
   "execution_count": 14,
   "metadata": {},
   "outputs": [],
   "source": [
    "# https://scikit-optimize.github.io/stable/auto_examples/hyperparameter-optimization.html#sphx-glr-auto-examples-hyperparameter-optimization-py"
   ]
  },
  {
   "cell_type": "code",
   "execution_count": 13,
   "metadata": {},
   "outputs": [
    {
     "name": "stderr",
     "output_type": "stream",
     "text": [
      "/Users/yangch/opt/anaconda3/lib/python3.9/site-packages/sklearn/utils/deprecation.py:87: FutureWarning: Function load_boston is deprecated; `load_boston` is deprecated in 1.0 and will be removed in 1.2.\n",
      "\n",
      "    The Boston housing prices dataset has an ethical problem. You can refer to\n",
      "    the documentation of this function for further details.\n",
      "\n",
      "    The scikit-learn maintainers therefore strongly discourage the use of this\n",
      "    dataset unless the purpose of the code is to study and educate about\n",
      "    ethical issues in data science and machine learning.\n",
      "\n",
      "    In this special case, you can fetch the dataset from the original\n",
      "    source::\n",
      "\n",
      "        import pandas as pd\n",
      "        import numpy as np\n",
      "\n",
      "        data_url = \"http://lib.stat.cmu.edu/datasets/boston\"\n",
      "        raw_df = pd.read_csv(data_url, sep=\"\\s+\", skiprows=22, header=None)\n",
      "        data = np.hstack([raw_df.values[::2, :], raw_df.values[1::2, :2]])\n",
      "        target = raw_df.values[1::2, 2]\n",
      "\n",
      "    Alternative datasets include the California housing dataset (i.e.\n",
      "    :func:`~sklearn.datasets.fetch_california_housing`) and the Ames housing\n",
      "    dataset. You can load the datasets as follows::\n",
      "\n",
      "        from sklearn.datasets import fetch_california_housing\n",
      "        housing = fetch_california_housing()\n",
      "\n",
      "    for the California housing dataset and::\n",
      "\n",
      "        from sklearn.datasets import fetch_openml\n",
      "        housing = fetch_openml(name=\"house_prices\", as_frame=True)\n",
      "\n",
      "    for the Ames housing dataset.\n",
      "  warnings.warn(msg, category=FutureWarning)\n"
     ]
    },
    {
     "data": {
      "text/plain": [
       "<AxesSubplot:title={'center':'Convergence plot'}, xlabel='Number of calls $n$', ylabel='$\\\\min f(x)$ after $n$ calls'>"
      ]
     },
     "execution_count": 13,
     "metadata": {},
     "output_type": "execute_result"
    },
    {
     "data": {
      "image/png": "[encoded data removed]",
      "text/plain": [
       "<Figure size 432x288 with 1 Axes>"
      ]
     },
     "metadata": {
      "needs_background": "light"
     },
     "output_type": "display_data"
    }
   ],
   "source": [
    "from sklearn.datasets import load_boston\n",
    "from sklearn.ensemble import GradientBoostingRegressor\n",
    "from sklearn.model_selection import cross_val_score\n",
    "\n",
    "boston = load_boston()\n",
    "X, y = boston.data, boston.target\n",
    "n_features = X.shape[1]\n",
    "\n",
    "# gradient boosted trees tend to do well on problems like this\n",
    "reg = GradientBoostingRegressor(n_estimators=50, random_state=0)\n",
    "from skopt.space import Real, Integer\n",
    "from skopt.utils import use_named_args\n",
    "\n",
    "\n",
    "# The list of hyper-parameters we want to optimize. For each one we define the\n",
    "# bounds, the corresponding scikit-learn parameter name, as well as how to\n",
    "# sample values from that dimension (`'log-uniform'` for the learning rate)\n",
    "space  = [Integer(1, 5, name='max_depth'),\n",
    "          Real(10**-5, 10**0, \"log-uniform\", name='learning_rate'),\n",
    "          Integer(1, n_features, name='max_features'),\n",
    "          Integer(2, 100, name='min_samples_split'),\n",
    "          Integer(1, 100, name='min_samples_leaf')]\n",
    "\n",
    "# this decorator allows your objective function to receive a the parameters as\n",
    "# keyword arguments. This is particularly convenient when you want to set\n",
    "# scikit-learn estimator parameters\n",
    "@use_named_args(space)\n",
    "def objective(**params):\n",
    "    reg.set_params(**params)\n",
    "\n",
    "    return -np.mean(cross_val_score(reg, X, y, cv=5, n_jobs=-1,\n",
    "                                    scoring=\"neg_mean_absolute_error\"))\n",
    "                                    \n",
    "from skopt import gp_minimize\n",
    "res_gp = gp_minimize(objective, space, n_calls=50, random_state=0)\n",
    "from skopt.plots import plot_convergence\n",
    "\n",
    "plot_convergence(res_gp)\n"
   ]
  },
  {
   "cell_type": "code",
   "execution_count": null,
   "metadata": {},
   "outputs": [],
   "source": []
  }
 ],
 "metadata": {
  "kernelspec": {
   "display_name": "base",
   "language": "python",
   "name": "python3"
  },
  "language_info": {
   "codemirror_mode": {
    "name": "ipython",
    "version": 3
   },
   "file_extension": ".py",
   "mimetype": "text/x-python",
   "name": "python",
   "nbconvert_exporter": "python",
   "pygments_lexer": "ipython3",
   "version": "3.9.12"
  },
  "orig_nbformat": 4,
  "vscode": {
   "interpreter": {
    "hash": "be79c08774ab08abdba7836e972ee8bbb52be9def37ccfcd7c02245db3c92f1b"
   }
  }
 },
 "nbformat": 4,
 "nbformat_minor": 2
}
