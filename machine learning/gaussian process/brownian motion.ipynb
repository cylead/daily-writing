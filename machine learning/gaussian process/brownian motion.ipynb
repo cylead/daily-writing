{
 "cells": [
  {
   "cell_type": "code",
   "execution_count": null,
   "metadata": {},
   "outputs": [],
   "source": []
  }
 ],
 "metadata": {
  "kernelspec": {
   "display_name": "base",
   "language": "python",
   "name": "python3"
  },
  "language_info": {
   "name": "python",
   "version": "3.9.12 (main, Apr  5 2022, 01:53:17) \n[Clang 12.0.0 ]"
  },
  "orig_nbformat": 4,
  "vscode": {
   "interpreter": {
    "hash": "be79c08774ab08abdba7836e972ee8bbb52be9def37ccfcd7c02245db3c92f1b"
   }
  }
 },
 "nbformat": 4,
 "nbformat_minor": 2
}
